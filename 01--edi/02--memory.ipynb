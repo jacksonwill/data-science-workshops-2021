{
 "cells": [
  {
   "cell_type": "code",
   "execution_count": 1,
   "metadata": {},
   "outputs": [
    {
     "name": "stdout",
     "output_type": "stream",
     "text": [
      "Collecting ipython-memory-usage\n",
      "  Using cached ipython_memory_usage-1.2.tar.gz (10 kB)\n",
      "Requirement already satisfied: IPython>=2.1 in /Users/jkanclerz/.venv/lib/python3.8/site-packages (from ipython-memory-usage) (7.18.1)\n",
      "Collecting memory_profiler\n",
      "  Downloading memory_profiler-0.57.0.tar.gz (34 kB)\n",
      "Requirement already satisfied: jedi>=0.10 in /Users/jkanclerz/.venv/lib/python3.8/site-packages (from IPython>=2.1->ipython-memory-usage) (0.17.2)\n",
      "Requirement already satisfied: appnope; sys_platform == \"darwin\" in /Users/jkanclerz/.venv/lib/python3.8/site-packages (from IPython>=2.1->ipython-memory-usage) (0.1.0)\n",
      "Requirement already satisfied: pygments in /Users/jkanclerz/.venv/lib/python3.8/site-packages (from IPython>=2.1->ipython-memory-usage) (2.7.1)\n",
      "Requirement already satisfied: pickleshare in /Users/jkanclerz/.venv/lib/python3.8/site-packages (from IPython>=2.1->ipython-memory-usage) (0.7.5)\n",
      "Requirement already satisfied: decorator in /Users/jkanclerz/.venv/lib/python3.8/site-packages (from IPython>=2.1->ipython-memory-usage) (4.4.2)\n",
      "Requirement already satisfied: traitlets>=4.2 in /Users/jkanclerz/.venv/lib/python3.8/site-packages (from IPython>=2.1->ipython-memory-usage) (5.0.5)\n",
      "Requirement already satisfied: backcall in /Users/jkanclerz/.venv/lib/python3.8/site-packages (from IPython>=2.1->ipython-memory-usage) (0.2.0)\n",
      "Requirement already satisfied: pexpect>4.3; sys_platform != \"win32\" in /Users/jkanclerz/.venv/lib/python3.8/site-packages (from IPython>=2.1->ipython-memory-usage) (4.8.0)\n",
      "Requirement already satisfied: setuptools>=18.5 in /Users/jkanclerz/.venv/lib/python3.8/site-packages (from IPython>=2.1->ipython-memory-usage) (47.1.0)\n",
      "Requirement already satisfied: prompt-toolkit!=3.0.0,!=3.0.1,<3.1.0,>=2.0.0 in /Users/jkanclerz/.venv/lib/python3.8/site-packages (from IPython>=2.1->ipython-memory-usage) (3.0.8)\n",
      "Collecting psutil\n",
      "  Downloading psutil-5.7.2.tar.gz (460 kB)\n",
      "\u001b[K     |████████████████████████████████| 460 kB 1.4 MB/s eta 0:00:01\n",
      "\u001b[?25hRequirement already satisfied: parso<0.8.0,>=0.7.0 in /Users/jkanclerz/.venv/lib/python3.8/site-packages (from jedi>=0.10->IPython>=2.1->ipython-memory-usage) (0.7.1)\n",
      "Requirement already satisfied: ipython-genutils in /Users/jkanclerz/.venv/lib/python3.8/site-packages (from traitlets>=4.2->IPython>=2.1->ipython-memory-usage) (0.2.0)\n",
      "Requirement already satisfied: ptyprocess>=0.5 in /Users/jkanclerz/.venv/lib/python3.8/site-packages (from pexpect>4.3; sys_platform != \"win32\"->IPython>=2.1->ipython-memory-usage) (0.6.0)\n",
      "Requirement already satisfied: wcwidth in /Users/jkanclerz/.venv/lib/python3.8/site-packages (from prompt-toolkit!=3.0.0,!=3.0.1,<3.1.0,>=2.0.0->IPython>=2.1->ipython-memory-usage) (0.1.9)\n",
      "Building wheels for collected packages: ipython-memory-usage, memory-profiler, psutil\n",
      "  Building wheel for ipython-memory-usage (setup.py) ... \u001b[?25ldone\n",
      "\u001b[?25h  Created wheel for ipython-memory-usage: filename=ipython_memory_usage-1.2-py3-none-any.whl size=8397 sha256=2c69b5564bad4373a58b538dce5e73fe6b39fb7ce04575071e6f60d9bf9815ca\n",
      "  Stored in directory: /Users/jkanclerz/Library/Caches/pip/wheels/e5/22/b2/56157fbddf21ddeb2c0f13852a794d616051a100fc6896c874\n",
      "  Building wheel for memory-profiler (setup.py) ... \u001b[?25ldone\n",
      "\u001b[?25h  Created wheel for memory-profiler: filename=memory_profiler-0.57.0-py3-none-any.whl size=28993 sha256=e88959264c82f7a6aa85ed07b2c7f5978c80ec86785b1fd238ec0734cbe83026\n",
      "  Stored in directory: /Users/jkanclerz/Library/Caches/pip/wheels/24/2a/aa/41c20a5e40e527e894031ae00a70366c1aa884b89f6326a9d6\n",
      "  Building wheel for psutil (setup.py) ... \u001b[?25ldone\n",
      "\u001b[?25h  Created wheel for psutil: filename=psutil-5.7.2-cp38-cp38-macosx_10_15_x86_64.whl size=234201 sha256=b277907f2a31b999dcc728028104638cda87b3e20c68c20bda5e4b3f0092e16d\n",
      "  Stored in directory: /Users/jkanclerz/Library/Caches/pip/wheels/91/cf/b0/0c9998060b55ca80ea7a50a8639c3bdc6ba886eeff014bc9ac\n",
      "Successfully built ipython-memory-usage memory-profiler psutil\n",
      "Installing collected packages: psutil, memory-profiler, ipython-memory-usage\n",
      "Successfully installed ipython-memory-usage-1.2 memory-profiler-0.57.0 psutil-5.7.2\n",
      "\u001b[33mWARNING: You are using pip version 20.1.1; however, version 20.2.3 is available.\n",
      "You should consider upgrading via the '/Users/jkanclerz/.venv/bin/python3 -m pip install --upgrade pip' command.\u001b[0m\n",
      "Note: you may need to restart the kernel to use updated packages.\n"
     ]
    }
   ],
   "source": [
    "pip install ipython-memory-usage"
   ]
  },
  {
   "cell_type": "code",
   "execution_count": 1,
   "metadata": {},
   "outputs": [],
   "source": [
    "x = 2"
   ]
  },
  {
   "cell_type": "code",
   "execution_count": 2,
   "metadata": {},
   "outputs": [
    {
     "data": {
      "text/plain": [
       "'memory profile enabled'"
      ]
     },
     "execution_count": 2,
     "metadata": {},
     "output_type": "execute_result"
    },
    {
     "name": "stdout",
     "output_type": "stream",
     "text": [
      "In [2] used 0.0547 MiB RAM in 0.12s, peaked 0.00 MiB above current, total RAM usage 46.64 MiB\n"
     ]
    }
   ],
   "source": [
    "import ipython_memory_usage \n",
    "%ipython_memory_usage_start "
   ]
  },
  {
   "cell_type": "code",
   "execution_count": 3,
   "metadata": {},
   "outputs": [
    {
     "name": "stdout",
     "output_type": "stream",
     "text": [
      "In [3] used 0.0547 MiB RAM in 0.10s, peaked 0.00 MiB above current, total RAM usage 46.70 MiB\n"
     ]
    }
   ],
   "source": [
    "x = 2"
   ]
  },
  {
   "cell_type": "code",
   "execution_count": 25,
   "metadata": {},
   "outputs": [
    {
     "name": "stdout",
     "output_type": "stream",
     "text": [
      "In [25] used 0.0000 MiB RAM in 0.11s, peaked 0.00 MiB above current, total RAM usage 5009.70 MiB\n"
     ]
    }
   ],
   "source": [
    "x = range(1, 100000)\n",
    "x = ((x, \"a\" * x) for x in x)"
   ]
  },
  {
   "cell_type": "code",
   "execution_count": 26,
   "metadata": {},
   "outputs": [
    {
     "name": "stdout",
     "output_type": "stream",
     "text": [
      "In [26] used 1484.5234 MiB RAM in 3.05s, peaked 51.10 MiB above current, total RAM usage 6494.23 MiB\n"
     ]
    }
   ],
   "source": [
    "loaded = list(x)"
   ]
  },
  {
   "cell_type": "code",
   "execution_count": null,
   "metadata": {},
   "outputs": [],
   "source": []
  },
  {
   "cell_type": "code",
   "execution_count": null,
   "metadata": {},
   "outputs": [],
   "source": []
  }
 ],
 "metadata": {
  "kernelspec": {
   "display_name": "Python 3",
   "language": "python",
   "name": "python3"
  },
  "language_info": {
   "codemirror_mode": {
    "name": "ipython",
    "version": 3
   },
   "file_extension": ".py",
   "mimetype": "text/x-python",
   "name": "python",
   "nbconvert_exporter": "python",
   "pygments_lexer": "ipython3",
   "version": "3.8.5"
  }
 },
 "nbformat": 4,
 "nbformat_minor": 2
}
