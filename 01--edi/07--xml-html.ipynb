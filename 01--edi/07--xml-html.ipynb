{
 "cells": [
  {
   "cell_type": "markdown",
   "metadata": {},
   "source": [
    "More complex format\n",
    "===================\n",
    "\n",
    "* xml\n",
    "* html\n",
    "\n",
    "XML\n",
    "===\n",
    "    * data transfer\n",
    "    * nested elements\n",
    "    * document validation\n",
    "    * parsers in most languages\n",
    "    * focus on bussines\n",
    "    * \n",
    "\n",
    "```xml\n",
    "<article>\n",
    "    <info>\n",
    "        <title>Some title</title>\n",
    "        <authors>\n",
    "            <author>\n",
    "                <firstname>Jakub</firstname>\n",
    "                <lastname>Kanclerz</lastname>\n",
    "            </author>\n",
    "        </authors>\n",
    "    </info>\n",
    "    <content>\n",
    "        <section type=\"header\">\n",
    "            <paragraph>\n",
    "                some title\n",
    "            </paragraph>\n",
    "        </section>\n",
    "        <section type=\"main\">\n",
    "            <paragraph>\n",
    "                some content\n",
    "            </paragraph>\n",
    "            <image src=\"image/src.jpeg\"/>\n",
    "        </section>\n",
    "    </content>\n",
    "</article>\n",
    "```\n",
    "\n",
    "Html\n",
    "====\n",
    "\n",
    "```html\n",
    "<li class=\"link\">\n",
    "    <div class=\"article\" data-id=\"4789115\">\n",
    "        <a href=\"#4789115\">\n",
    "            <span>85</span>\n",
    "            <span class=\"button button submit\">wykop</span>\n",
    "        </a>\n",
    "    </div>\n",
    "\n",
    "    <div class=\"media-content m-reset-float \">\n",
    "        <a href=\"https://www.wykop.pl/link/4789115/w-jaki-sposob-facebook-stal-sie-lewicowa-sekta-opowiesc-pracownika-firmy/\">\n",
    "            <img src=\"https://www.wykop.pl/cdn/c3397993/link_MwUxfsmJdpfvuiy0ICl1l0Yw35VeWgBc,w207h139.jpg\" alt=\"W jaki sposób Facebook stał się lewicową sektą? Opowieść pracownika firmy.\">\n",
    "        </a>\n",
    "    </div>\n",
    "    <div class=\"lcontrast m-reset-margin\">\n",
    "        <h2>\n",
    "            <a href=\"https://www.wykop.pl/link/4789115/w-jaki-sposob-facebook-stal-sie-lewicowa-sekta-opowiesc-pracownika-firmy/\"\n",
    "                rel=\"nofollow noopener noreferrer\" title=\"W jaki sposób Facebook stał się lewicową sektą? Opowieść pracownika firmy.\">W\n",
    "                jaki sposób Facebook stał się lewicową sektą? Opowieść pracownika firmy.</a>\n",
    "        </h2>\n",
    "\n",
    "\n",
    "        <div class=\"description\">\n",
    "            <p class=\"text\">\n",
    "                <a href=\"https://www.wykop.pl/link/4789115/w-jaki-sposob-facebook-stal-sie-lewicowa-sekta-opowiesc-pracownika-firmy/\"\n",
    "                    title=\"\">\n",
    "                    Tragiczna relacja pracownika, który przez lata obserwował jak serwis promujący wolność słowa\n",
    "                    zamienił się w ideologiczny rynsztok prześladujący pracowników o zróżnicowanym światopoglądzie.\n",
    "                </a>\n",
    "            </p>\n",
    "        </div>\n",
    "    </div>\n",
    "</li>\n",
    "```"
   ]
  },
  {
   "cell_type": "code",
   "execution_count": 1,
   "metadata": {},
   "outputs": [
    {
     "name": "stdout",
     "output_type": "stream",
     "text": [
      "Collecting bs4\n",
      "  Downloading https://files.pythonhosted.org/packages/10/ed/7e8b97591f6f456174139ec089c769f89a94a1a4025fe967691de971f314/bs4-0.0.1.tar.gz\n",
      "Collecting beautifulsoup4\n",
      "\u001b[?25l  Downloading https://files.pythonhosted.org/packages/cb/a1/c698cf319e9cfed6b17376281bd0efc6bfc8465698f54170ef60a485ab5d/beautifulsoup4-4.8.2-py3-none-any.whl (106kB)\n",
      "\u001b[K     |████████████████████████████████| 112kB 661kB/s eta 0:00:01\n",
      "\u001b[?25hCollecting soupsieve>=1.2\n",
      "  Downloading https://files.pythonhosted.org/packages/81/94/03c0f04471fc245d08d0a99f7946ac228ca98da4fa75796c507f61e688c2/soupsieve-1.9.5-py2.py3-none-any.whl\n",
      "Installing collected packages: soupsieve, beautifulsoup4, bs4\n",
      "    Running setup.py install for bs4 ... \u001b[?25ldone\n",
      "\u001b[?25hSuccessfully installed beautifulsoup4-4.8.2 bs4-0.0.1 soupsieve-1.9.5\n",
      "\u001b[33mWARNING: You are using pip version 19.3.1; however, version 20.0.2 is available.\n",
      "You should consider upgrading via the 'pip install --upgrade pip' command.\u001b[0m\n"
     ]
    }
   ],
   "source": [
    "!pip install bs4"
   ]
  },
  {
   "cell_type": "code",
   "execution_count": 5,
   "metadata": {},
   "outputs": [],
   "source": [
    "sample_xml = '''\n",
    "<article>\n",
    "    <info>\n",
    "        <title>Some title</title>\n",
    "        <authors>\n",
    "            <author>\n",
    "                <firstname>Jakub</firstname>\n",
    "                <lastname>Kanclerz</lastname>\n",
    "            </author>\n",
    "        </authors>\n",
    "    </info>\n",
    "    <content>\n",
    "        <section type=\"header\">\n",
    "            <paragraph>\n",
    "                some title\n",
    "            </paragraph>\n",
    "        </section>\n",
    "        <section type=\"main\">\n",
    "            <paragraph>\n",
    "                some content\n",
    "            </paragraph>\n",
    "            <image src=\"image/src.jpeg\"/>\n",
    "        </section>\n",
    "    </content>\n",
    "</article>\n",
    "'''"
   ]
  },
  {
   "cell_type": "code",
   "execution_count": 6,
   "metadata": {},
   "outputs": [],
   "source": [
    "import requests\n",
    "from bs4 import BeautifulSoup as bs\n",
    "from itertools import chain"
   ]
  },
  {
   "cell_type": "code",
   "execution_count": 7,
   "metadata": {},
   "outputs": [
    {
     "name": "stdout",
     "output_type": "stream",
     "text": [
      "Requirement already satisfied: lxml in /Users/jkanclerz/.platformio/penv/lib/python3.8/site-packages (4.5.2)\r\n"
     ]
    }
   ],
   "source": [
    "!pip install lxml"
   ]
  },
  {
   "cell_type": "code",
   "execution_count": 10,
   "metadata": {},
   "outputs": [],
   "source": [
    "loaded = bs(sample_xml, \"html.parser\")"
   ]
  },
  {
   "cell_type": "code",
   "execution_count": 11,
   "metadata": {},
   "outputs": [],
   "source": [
    "urls = [\n",
    "    \"https://www.wykop.pl/strona/{}\".format(page)\n",
    "    for page in range(1, 10, 1)\n",
    "]"
   ]
  },
  {
   "cell_type": "code",
   "execution_count": 12,
   "metadata": {},
   "outputs": [],
   "source": [
    "import collections\n",
    "from pprint import pprint as pp\n",
    "\n",
    "Wykop = collections.namedtuple('Wykop', ['count', 'title', 'description', 'tags'])\n",
    "\n",
    "def clear_text(text):\n",
    "    return text.rstrip().replace(\"\\n\", '').replace(\"\\t\", '')\n",
    "\n",
    "def grab_wykop_item_data(element):\n",
    "    try:\n",
    "        tags = map(lambda x: x.text, element.select('.article>div a.tag'))\n",
    "        tags = filter(lambda x: x.startswith('#'), tags)\n",
    "        \n",
    "        return Wykop(\n",
    "            int(element.select('.article>div a>span:first-child')[0].text),\n",
    "            element.select('.article>div h2 a')[0]['title'],\n",
    "            clear_text(element.select('.article>div .description')[0].text),\n",
    "            list(tags))\n",
    "    except Exception as e:\n",
    "        return None"
   ]
  },
  {
   "cell_type": "code",
   "execution_count": 13,
   "metadata": {},
   "outputs": [],
   "source": [
    "pages = (requests.get(url) for url in urls)\n",
    "contents = (page.content for page in pages)\n",
    "soups = (bs(content, 'html.parser') for content in contents)\n",
    "lists_of_items = (soup.select('#itemsStream li.iC') for soup in soups)\n",
    "all_items_together = chain.from_iterable(lists_of_items)\n",
    "extracted = (grab_wykop_item_data(item) for item in all_items_together)\n",
    "valid = (wykop for wykop in extracted if wykop is not None)"
   ]
  },
  {
   "cell_type": "code",
   "execution_count": null,
   "metadata": {},
   "outputs": [],
   "source": []
  },
  {
   "cell_type": "code",
   "execution_count": 14,
   "metadata": {},
   "outputs": [],
   "source": [
    "import itertools\n",
    "first5 = [next(valid) for x in range(4)]"
   ]
  },
  {
   "cell_type": "code",
   "execution_count": 15,
   "metadata": {},
   "outputs": [
    {
     "data": {
      "text/plain": [
       "[Wykop(count=325, title='Trwa spontaniczny protest branży fitness w Warszawie.', description='\"100 tysięcy miejsc pracy jest na szali\"', tags=['#polska', '#ekonomia', '#silownia', '#mikrokoksy', '#koronawirus']),\n",
       " Wykop(count=112, title='Braun zdjęty z wizji w „Forum” TVP Info. Promował książę o fałszywości pandemii', description='Grzegorz Braun kilkanaście minut po starcie programu „Forum” w TVP Info zakończył w nim udział. Prowadzący Adrian Klarenbach bezskutecznie prosił go, żeby nie eksponował do kamery okładki książki „Fałszywa pandemia”, bo to lokowanie produktu niedozwolone w programie publicystycznym.', tags=['#polityka', '#polska', '#wydarzenia', '#koronawirus', '#tvpis', '#tvpiscodzienny']),\n",
       " Wykop(count=1952, title='KOLEJNY REKORD! 9622 nowych przypadków koronawirusa, 84 zgonów', description='Ministerstwo Zdrowia w sobotnim komunikacie poinformowało o 9622 nowych i potwierdzonych przypadkach koronawirusa. To niestety kolejny rekordowy wynik zakażeń w Polsce. Zmarło również 84 osób', tags=['#koronawirus', '#polska', '#krakow', '#covid19', '#wirus', '#bekazpisu']),\n",
       " Wykop(count=599, title='Toksyczna książka \"Falszywa Pandemia\"', description='Uwaga, książka \"Falszywa Pandemia\" jest pełna głupot i  manipulacji. Książkę wydał Braun, a polecana jest miedzy innymi przez Radio Maryja', tags=['#nauka', '#koronawirus', '#ksiazki', '#bekazkatoli', '#medycyna', '#ciekawostki'])]"
      ]
     },
     "execution_count": 15,
     "metadata": {},
     "output_type": "execute_result"
    }
   ],
   "source": [
    "list(first5)"
   ]
  },
  {
   "cell_type": "code",
   "execution_count": 16,
   "metadata": {},
   "outputs": [],
   "source": [
    "tags = (wykop.tags for wykop in first5)"
   ]
  },
  {
   "cell_type": "code",
   "execution_count": 17,
   "metadata": {},
   "outputs": [],
   "source": [
    "all_tags = list(chain.from_iterable(tags))"
   ]
  },
  {
   "cell_type": "code",
   "execution_count": 18,
   "metadata": {},
   "outputs": [],
   "source": [
    "counter = {}\n",
    "\n",
    "for tag in all_tags:\n",
    "    if tag not in counter.keys():\n",
    "        counter[tag] = 1\n",
    "    else:\n",
    "        counter[tag] = counter[tag] + 1"
   ]
  },
  {
   "cell_type": "code",
   "execution_count": 19,
   "metadata": {},
   "outputs": [
    {
     "data": {
      "text/plain": [
       "{'#polska': 3,\n",
       " '#ekonomia': 1,\n",
       " '#silownia': 1,\n",
       " '#mikrokoksy': 1,\n",
       " '#koronawirus': 4,\n",
       " '#polityka': 1,\n",
       " '#wydarzenia': 1,\n",
       " '#tvpis': 1,\n",
       " '#tvpiscodzienny': 1,\n",
       " '#krakow': 1,\n",
       " '#covid19': 1,\n",
       " '#wirus': 1,\n",
       " '#bekazpisu': 1,\n",
       " '#nauka': 1,\n",
       " '#ksiazki': 1,\n",
       " '#bekazkatoli': 1,\n",
       " '#medycyna': 1,\n",
       " '#ciekawostki': 1}"
      ]
     },
     "execution_count": 19,
     "metadata": {},
     "output_type": "execute_result"
    }
   ],
   "source": [
    "counter"
   ]
  },
  {
   "cell_type": "code",
   "execution_count": 20,
   "metadata": {},
   "outputs": [
    {
     "data": {
      "text/plain": [
       "[('#koronawirus', 4),\n",
       " ('#polska', 3),\n",
       " ('#ciekawostki', 1),\n",
       " ('#medycyna', 1),\n",
       " ('#bekazkatoli', 1),\n",
       " ('#ksiazki', 1),\n",
       " ('#nauka', 1),\n",
       " ('#bekazpisu', 1),\n",
       " ('#wirus', 1),\n",
       " ('#covid19', 1),\n",
       " ('#krakow', 1),\n",
       " ('#tvpiscodzienny', 1),\n",
       " ('#tvpis', 1),\n",
       " ('#wydarzenia', 1),\n",
       " ('#polityka', 1),\n",
       " ('#mikrokoksy', 1),\n",
       " ('#silownia', 1),\n",
       " ('#ekonomia', 1)]"
      ]
     },
     "execution_count": 20,
     "metadata": {},
     "output_type": "execute_result"
    }
   ],
   "source": [
    "import operator\n",
    "list(reversed(sorted(counter.items(), key=lambda item: item[1])))"
   ]
  },
  {
   "cell_type": "code",
   "execution_count": 21,
   "metadata": {},
   "outputs": [
    {
     "data": {
      "text/plain": [
       "[('#koronawirus', 4),\n",
       " ('#polska', 3),\n",
       " ('#ekonomia', 1),\n",
       " ('#silownia', 1),\n",
       " ('#mikrokoksy', 1),\n",
       " ('#polityka', 1),\n",
       " ('#wydarzenia', 1),\n",
       " ('#tvpis', 1),\n",
       " ('#tvpiscodzienny', 1),\n",
       " ('#krakow', 1),\n",
       " ('#covid19', 1),\n",
       " ('#wirus', 1),\n",
       " ('#bekazpisu', 1),\n",
       " ('#nauka', 1),\n",
       " ('#ksiazki', 1),\n",
       " ('#bekazkatoli', 1),\n",
       " ('#medycyna', 1),\n",
       " ('#ciekawostki', 1)]"
      ]
     },
     "execution_count": 21,
     "metadata": {},
     "output_type": "execute_result"
    }
   ],
   "source": [
    "from collections import Counter\n",
    "c = Counter(all_tags)\n",
    "c.most_common()"
   ]
  },
  {
   "cell_type": "markdown",
   "metadata": {},
   "source": [
    "persistance\n",
    "-------------"
   ]
  },
  {
   "cell_type": "code",
   "execution_count": 221,
   "metadata": {},
   "outputs": [],
   "source": [
    "import csv\n",
    "with open('wykop.csv', 'w') as destination_file:\n",
    "    writer = csv.writer(destination_file, delimiter=';', quotechar='\"')\n",
    "    for row in first5:\n",
    "        writer.writerow(row)"
   ]
  },
  {
   "cell_type": "code",
   "execution_count": 226,
   "metadata": {},
   "outputs": [],
   "source": [
    "import json\n",
    "with open('wykop.data', 'w') as destination_file:\n",
    "    for row in first5:\n",
    "        destination_file.write(json.dumps(row._asdict()) + \"\\n\")"
   ]
  },
  {
   "cell_type": "code",
   "execution_count": null,
   "metadata": {},
   "outputs": [],
   "source": []
  }
 ],
 "metadata": {
  "kernelspec": {
   "display_name": "Python 3",
   "language": "python",
   "name": "python3"
  },
  "language_info": {
   "codemirror_mode": {
    "name": "ipython",
    "version": 3
   },
   "file_extension": ".py",
   "mimetype": "text/x-python",
   "name": "python",
   "nbconvert_exporter": "python",
   "pygments_lexer": "ipython3",
   "version": "3.8.5"
  }
 },
 "nbformat": 4,
 "nbformat_minor": 2
}
